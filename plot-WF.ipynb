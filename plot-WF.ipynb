{
 "cells": [
  {
   "cell_type": "code",
   "execution_count": 1,
   "id": "73ff64df",
   "metadata": {},
   "outputs": [],
   "source": [
    "import pandas as pd\n",
    "from get_r_groups import get_r_df, r_groups_from_scaffold\n",
    "from get_r_data import get_smiles_and_activity\n",
    "from auto_radialscope import make_auto_radial_scope\n",
    "from calculate_drawing_angle import get_bond_angle, create_r_group_map\n",
    "from rdkit import Chem\n",
    "from rdkit.Chem import PandasTools\n",
    "from radialscope import RadialScope as rs\n",
    "from IPython.display import SVG\n",
    "from radialscope import draw_with_indeces"
   ]
  },
  {
   "cell_type": "code",
   "execution_count": 2,
   "id": "7afe04e8",
   "metadata": {},
   "outputs": [],
   "source": [
    "df = pd.read_excel('AL data.xlsx')\n",
    "a_df=df.replace(\"Œ±-amino amination\", \"alpha-amino amination\")\n",
    "b_df=a_df.replace(\"Œ≤-amino deamination\", \"beta-amino amination\")\n",
    "df_PAL=b_df[b_df['enzyme_type'] == \"PAL\"]\n",
    "df_PAL = df_PAL.dropna(subset=['product_1_smiles'])\n",
    "PandasTools.AddMoleculeColumnToFrame(df_PAL,'product_1_smiles','Product Mol')\n",
    "\n",
    "#df_PAL.head()\n",
    "# Make basic adjustments to the table after importing excel\n",
    "# Then add the “Product Mol” column based on the “product_1_smiles” column."
   ]
  },
  {
   "cell_type": "code",
   "execution_count": 3,
   "id": "fc5b9074",
   "metadata": {},
   "outputs": [
    {
     "data": {
      "image/png": "[encoded data removed]",
      "text/plain": [
       "<rdkit.Chem.rdchem.Mol at 0x7fa3f36a2940>"
      ]
     },
     "execution_count": 3,
     "metadata": {},
     "output_type": "execute_result"
    }
   ],
   "source": [
    "scaffold_smi = 'N[C@@H](CC1=C([*:1])C([*:2])=C([*:3])C=C1)C(O)=O'\n",
    "scaffold = Chem.MolFromSmiles(scaffold_smi)\n",
    "scaffold"
   ]
  },
  {
   "cell_type": "code",
   "execution_count": null,
   "id": "827b7863-2576-4365-a27e-d9e66fb77fc6",
   "metadata": {},
   "outputs": [
    {
     "name": "stderr",
     "output_type": "stream",
     "text": [
      "RDKit DEBUG: [14:54:18] No core matches\n",
      "RDKit DEBUG: [14:54:18] No core matches\n",
      "RDKit DEBUG: [14:54:18] No core matches\n",
      "RDKit DEBUG: [14:54:18] No core matches\n",
      "RDKit DEBUG: [14:54:18] No core matches\n",
      "RDKit DEBUG: [14:54:18] No core matches\n",
      "RDKit DEBUG: [14:54:18] No core matches\n",
      "RDKit DEBUG: [14:54:18] No core matches\n",
      "RDKit DEBUG: [14:54:18] No core matches\n",
      "RDKit DEBUG: [14:54:18] No core matches\n",
      "RDKit DEBUG: [14:54:18] No core matches\n",
      "RDKit DEBUG: [14:54:18] No core matches\n",
      "RDKit DEBUG: [14:54:18] No core matches\n",
      "RDKit DEBUG: [14:54:18] No core matches\n",
      "RDKit DEBUG: [14:54:18] No core matches\n",
      "RDKit DEBUG: [14:54:18] No core matches\n",
      "RDKit DEBUG: [14:54:18] No core matches\n"
     ]
    }
   ],
   "source": [
    "scope_plot = make_auto_radial_scope([\"EncP\", \"AvPAL\"], \n",
    "                                    df_PAL, scaffold_smi, \n",
    "                                    angle_per_wedge=11,\n",
    "                                    colours=['Blues', 'Reds'])\n",
    "\n",
    "SVG('substrate_scope_replaced.svg')"
   ]
  },
  {
   "cell_type": "code",
   "execution_count": null,
   "id": "c8683755-62b4-40c9-925f-dd99467aada1",
   "metadata": {},
   "outputs": [],
   "source": []
  }
 ],
 "metadata": {
  "kernelspec": {
   "display_name": "Python 3",
   "language": "python",
   "name": "python3"
  },
  "language_info": {
   "codemirror_mode": {
    "name": "ipython",
    "version": 3
   },
   "file_extension": ".py",
   "mimetype": "text/x-python",
   "name": "python",
   "nbconvert_exporter": "python",
   "pygments_lexer": "ipython3",
   "version": "3.7.10"
  }
 },
 "nbformat": 4,
 "nbformat_minor": 5
}
